{
  "cells": [
    {
      "cell_type": "code",
      "execution_count": null,
      "metadata": {
        "colab": {
          "base_uri": "https://localhost:8080/"
        },
        "id": "Zj__4DMpdevc",
        "outputId": "6dc4e619-70c7-42c1-f811-da8533c1b78c"
      },
      "outputs": [
        {
          "name": "stdout",
          "output_type": "stream",
          "text": [
            "Collecting colorama\n",
            "  Downloading colorama-0.4.6-py2.py3-none-any.whl (25 kB)\n",
            "Installing collected packages: colorama\n",
            "Successfully installed colorama-0.4.6\n"
          ]
        }
      ],
      "source": [
        "!pip install colorama"
      ]
    },
    {
      "cell_type": "code",
      "execution_count": null,
      "metadata": {
        "id": "Di2CtGKHfEDk"
      },
      "outputs": [],
      "source": [
        "from colorama import Back, Fore\n",
        "from IPython.display import Latex"
      ]
    },
    {
      "cell_type": "code",
      "execution_count": null,
      "metadata": {
        "colab": {
          "base_uri": "https://localhost:8080/"
        },
        "id": "3nDcm37-jCv2",
        "outputId": "5f2fb15f-cbf2-4582-a98a-5bdd9d5f7b45"
      },
      "outputs": [
        {
          "name": "stdout",
          "output_type": "stream",
          "text": [
            "Ingresa el tamaño del arreglo: xYz\n",
            "\u001b[42m\u001b[37mIngresa un tamaño de arreglo que sea válido.\u001b[39m\u001b[49m\n",
            "Ingresa el tamaño del arreglo: 15\n"
          ]
        }
      ],
      "source": [
        "while 1:\n",
        "  try:\n",
        "    arrayDIM = int(input('Ingresa el tamaño del arreglo: '))\n",
        "    break\n",
        "  except ValueError:\n",
        "    print(Back.GREEN + Fore.WHITE + 'Ingresa un tamaño de arreglo que sea válido.' + Fore.RESET + Back.RESET )"
      ]
    },
    {
      "cell_type": "code",
      "execution_count": null,
      "metadata": {
        "id": "pGcklbgxr5c1"
      },
      "outputs": [],
      "source": [
        "array = []\n",
        "for _ in range(arrayDIM):\n",
        "  array.append(_ + 1)"
      ]
    },
    {
      "cell_type": "code",
      "execution_count": null,
      "metadata": {
        "id": "MTwWstb5vRB0"
      },
      "outputs": [],
      "source": [
        "c = 0\n",
        "m = str()\n",
        "for i in range(arrayDIM):\n",
        "  for j in array:\n",
        "    m += str(j + c) + ' & '\n",
        "  m = m.rstrip(' & ') + ' \\\\newline'\n",
        "  c += 1"
      ]
    },
    {
      "cell_type": "code",
      "execution_count": null,
      "metadata": {
        "colab": {
          "base_uri": "https://localhost:8080/",
          "height": 322
        },
        "id": "PXu_TStgxavy",
        "outputId": "f9d43d1c-0719-4692-cf55-0727ba605749"
      },
      "outputs": [
        {
          "data": {
            "text/latex": [
              "\\begin{bmatrix}1 & 2 & 3 & 4 & 5 & 6 & 7 & 8 & 9 & 10 & 11 & 12 & 13 & 14 & 15 \\newline2 & 3 & 4 & 5 & 6 & 7 & 8 & 9 & 10 & 11 & 12 & 13 & 14 & 15 & 16 \\newline3 & 4 & 5 & 6 & 7 & 8 & 9 & 10 & 11 & 12 & 13 & 14 & 15 & 16 & 17 \\newline4 & 5 & 6 & 7 & 8 & 9 & 10 & 11 & 12 & 13 & 14 & 15 & 16 & 17 & 18 \\newline5 & 6 & 7 & 8 & 9 & 10 & 11 & 12 & 13 & 14 & 15 & 16 & 17 & 18 & 19 \\newline6 & 7 & 8 & 9 & 10 & 11 & 12 & 13 & 14 & 15 & 16 & 17 & 18 & 19 & 20 \\newline7 & 8 & 9 & 10 & 11 & 12 & 13 & 14 & 15 & 16 & 17 & 18 & 19 & 20 & 21 \\newline8 & 9 & 10 & 11 & 12 & 13 & 14 & 15 & 16 & 17 & 18 & 19 & 20 & 21 & 22 \\newline9 & 10 & 11 & 12 & 13 & 14 & 15 & 16 & 17 & 18 & 19 & 20 & 21 & 22 & 23 \\newline10 & 11 & 12 & 13 & 14 & 15 & 16 & 17 & 18 & 19 & 20 & 21 & 22 & 23 & 24 \\newline11 & 12 & 13 & 14 & 15 & 16 & 17 & 18 & 19 & 20 & 21 & 22 & 23 & 24 & 25 \\newline12 & 13 & 14 & 15 & 16 & 17 & 18 & 19 & 20 & 21 & 22 & 23 & 24 & 25 & 26 \\newline13 & 14 & 15 & 16 & 17 & 18 & 19 & 20 & 21 & 22 & 23 & 24 & 25 & 26 & 27 \\newline14 & 15 & 16 & 17 & 18 & 19 & 20 & 21 & 22 & 23 & 24 & 25 & 26 & 27 & 28 \\newline15 & 16 & 17 & 18 & 19 & 20 & 21 & 22 & 23 & 24 & 25 & 26 & 27 & 28 & 29 \\newline\\end{bmatrix}"
            ],
            "text/plain": [
              "<IPython.core.display.Latex object>"
            ]
          },
          "execution_count": 100,
          "metadata": {},
          "output_type": "execute_result"
        }
      ],
      "source": [
        "Latex('\\\\begin{bmatrix}' + m + '\\\\end{bmatrix}')"
      ]
    }
  ],
  "metadata": {
    "colab": {
      "provenance": []
    },
    "kernelspec": {
      "display_name": "Python 3",
      "name": "python3"
    },
    "language_info": {
      "name": "python"
    }
  },
  "nbformat": 4,
  "nbformat_minor": 0
}
